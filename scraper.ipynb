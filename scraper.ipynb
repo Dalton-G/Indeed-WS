{
 "cells": [
  {
   "cell_type": "code",
   "execution_count": 1,
   "metadata": {},
   "outputs": [],
   "source": [
    "# imports\n",
    "import time\n",
    "from time import sleep\n",
    "import pandas as pd\n",
    "from random import randint\n",
    "import selenium\n",
    "from selenium import webdriver\n",
    "from selenium.webdriver.chrome.service import Service as ChromeService\n",
    "from webdriver_manager.chrome import ChromeDriverManager\n",
    "from selenium.webdriver.common.by import By\n",
    "from selenium.webdriver.support.ui import WebDriverWait\n",
    "from selenium.webdriver.support import expected_conditions as EC\n",
    "from selenium.webdriver.common.keys import Keys\n",
    "from selenium.common.exceptions import NoSuchElementException"
   ]
  },
  {
   "cell_type": "code",
   "execution_count": 2,
   "metadata": {},
   "outputs": [],
   "source": [
    "# browser options\n",
    "option=webdriver.ChromeOptions()\n",
    "option.add_argument(\"--incognito\")\n",
    "# option.add_argument('--headless=chrome')"
   ]
  },
  {
   "cell_type": "code",
   "execution_count": 3,
   "metadata": {},
   "outputs": [],
   "source": [
    "# search keyword\n",
    "job_search_keyword = [\n",
    "    'Data+Scientist', 'Business+Analyst', 'Data+Engineer',\n",
    "    'Python+Developer' 'Full+Stack+Developer', 'Software+Engineer',\n",
    "    'Machine+Learning+Engineer'\n",
    "]\n",
    "\n",
    "location_search_keyword = [\n",
    "    'Kuala+Lumpur', 'Selangor', 'Petaling+Jaya',\n",
    "    'Kota+Damansara', 'Shah+Alam', 'Cheras',\n",
    "    'KL+Sentral', 'Puchong', 'Ampang', 'Klang'\n",
    "]\n",
    "\n",
    "pagination_url = 'https://malaysia.indeed.com/jobs?q={}&l={}&radius=15&filter=1&sort=date&start={}'"
   ]
  },
  {
   "cell_type": "code",
   "execution_count": 4,
   "metadata": {},
   "outputs": [
    {
     "name": "stdout",
     "output_type": "stream",
     "text": [
      "328.64494609832764 seconds to complete action!\n",
      "---------------------\n",
      "Max Iterable Pages for this search: 3\n",
      "Job Count: 45\n"
     ]
    }
   ],
   "source": [
    "start = time.time()\n",
    "\n",
    "job_ = 'Technician+Aircond'\n",
    "location = 'Selangor'\n",
    "\n",
    "job_lst = [] # store job list\n",
    "job_description_list_href = []\n",
    "job_description_list = []\n",
    "salary_list = [] # store salary list\n",
    "merged_array = [] # store merged array\n",
    "\n",
    "driver = webdriver.Chrome(service=ChromeService(ChromeDriverManager().install()),options=option)\n",
    "\n",
    "driver.get(pagination_url.format(job_,location,0))\n",
    "\n",
    "# wait for a random seconds before continuing\n",
    "sleep(randint(2, 6))\n",
    "\n",
    "# find the number of jobs\n",
    "p = driver.find_element(By.CLASS_NAME, 'jobsearch-JobCountAndSortPane-jobCount').text\n",
    "p = p.strip(\" jobs\")\n",
    "p = int(p.replace(',',''))\n",
    "max_iter_pgs = p // 15\n",
    "\n",
    "# set loop = 0 if only 1 page of listings\n",
    "if (max_iter_pgs == 0 and p > 0):\n",
    "    maxRange = 1\n",
    "else:\n",
    "    maxRange = max_iter_pgs\n",
    "\n",
    "# scraper\n",
    "for i in range(0,maxRange):\n",
    "    driver.get(pagination_url.format(job_, location, i*10))\n",
    "    \n",
    "    sleep(randint(2, 4))\n",
    "\n",
    "    job_page = driver.find_element(By.ID, \"mosaic-jobResults\")\n",
    "    jobs = job_page.find_elements(By.CLASS_NAME, \"job_seen_beacon\")\n",
    "\n",
    "    for jj in jobs:\n",
    "        job_title = jj.find_element(By.CLASS_NAME, \"jobTitle\")\n",
    "\n",
    "        job_lst.append([\n",
    "            job_title.text, # job title\n",
    "            job_title.find_element(By.CSS_SELECTOR, \"a\").get_attribute(\"href\"), # job link\n",
    "            job_title.find_element(By.CSS_SELECTOR, \"a\").get_attribute(\"id\"), # job id\n",
    "            jj.find_element(By.CLASS_NAME, \"companyName\").text, # company name\n",
    "            jj.find_element(By.CLASS_NAME, \"companyLocation\").text, # company location\n",
    "            jj.find_element(By.CLASS_NAME, \"date\").text # date posted\n",
    "        ])\n",
    "\n",
    "        try:\n",
    "            salary_list.append(jj.find_element(By.CLASS_NAME, \"salary-snippet-container\").text)\n",
    "        except NoSuchElementException:\n",
    "            salary_list.append(None)\n",
    "\n",
    "        try:\n",
    "            pop_up_button = jj.find_element(By.XPATH, '//*[@id=\"mosaic-desktopserpjapopup\"]/div[1]/button')\n",
    "            pop_up_button.click()\n",
    "        except NoSuchElementException:\n",
    "            pass\n",
    "\n",
    "        # pop_up_button.click()\n",
    "\n",
    "        # job_title.click()\n",
    "\n",
    "        # sleep(randint(3, 5)) # might need to change timing\n",
    "\n",
    "        # try:\n",
    "        #     job_description_list.append(driver.find_element(By.ID,\"jobDescriptionText\").text)\n",
    "        # except:\n",
    "        #     job_description_list.append(None)\n",
    "\n",
    "# extract job description links\n",
    "for i in range(len(job_lst)):\n",
    "    job_description_list_href.append(job_lst[i][1])\n",
    "\n",
    "# extract job description from each link\n",
    "for i in job_description_list_href:\n",
    "    driver.get(i)\n",
    "    \n",
    "    sleep(randint(3, 5))\n",
    "\n",
    "    try:\n",
    "        job_description_list.append(driver.find_element(By.ID,\"jobDescriptionText\").text)\n",
    "    except:\n",
    "        job_description_list.append(None)\n",
    "\n",
    "driver.quit()\n",
    "end = time.time()\n",
    "\n",
    "# merge job listing and with corresponding salary\n",
    "for job, salary, desc in zip(job_lst, salary_list, job_description_list):\n",
    "    merged_array.append(job + [salary] + [desc])\n",
    "\n",
    "# print scraping details\n",
    "print(end - start, 'seconds to complete action!')\n",
    "print('---------------------')\n",
    "print('Max Iterable Pages for this search:', max_iter_pgs)\n",
    "print('Job Count:', p)"
   ]
  },
  {
   "cell_type": "markdown",
   "metadata": {},
   "source": [
    "## Testing"
   ]
  },
  {
   "cell_type": "code",
   "execution_count": 5,
   "metadata": {},
   "outputs": [
    {
     "data": {
      "text/plain": [
       "45"
      ]
     },
     "execution_count": 5,
     "metadata": {},
     "output_type": "execute_result"
    }
   ],
   "source": [
    "len(merged_array)"
   ]
  },
  {
   "cell_type": "markdown",
   "metadata": {},
   "source": [
    "## Pandas"
   ]
  },
  {
   "cell_type": "code",
   "execution_count": 8,
   "metadata": {},
   "outputs": [],
   "source": [
    "df = pd.DataFrame(merged_array, columns = [\n",
    "    'Job Title', 'Job Link', 'Job ID',\n",
    "    'Company', 'Location', 'Job Posting',\n",
    "    'Salary', 'Job Description'\n",
    "])\n",
    "\n",
    "# change this path\n",
    "df.to_excel('..//Indeed-WS//excel//results.xlsx', \n",
    "            sheet_name='Sheet1', index=False)"
   ]
  }
 ],
 "metadata": {
  "kernelspec": {
   "display_name": "Python 3",
   "language": "python",
   "name": "python3"
  },
  "language_info": {
   "codemirror_mode": {
    "name": "ipython",
    "version": 3
   },
   "file_extension": ".py",
   "mimetype": "text/x-python",
   "name": "python",
   "nbconvert_exporter": "python",
   "pygments_lexer": "ipython3",
   "version": "3.11.5"
  }
 },
 "nbformat": 4,
 "nbformat_minor": 2
}
